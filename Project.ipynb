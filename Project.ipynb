{
 "metadata": {
  "language_info": {
   "codemirror_mode": {
    "name": "ipython",
    "version": 3
   },
   "file_extension": ".py",
   "mimetype": "text/x-python",
   "name": "python",
   "nbconvert_exporter": "python",
   "pygments_lexer": "ipython3",
   "version": "3.9.1"
  },
  "orig_nbformat": 2,
  "kernelspec": {
   "name": "python391jvsc74a57bd03fc9130186fb75e8cdca6c0f146d14595d5fde88e084fbbf31901e9f10d603c9",
   "display_name": "Python 3.9.1 64-bit"
  }
 },
 "nbformat": 4,
 "nbformat_minor": 2,
 "cells": [
  {
   "cell_type": "code",
   "execution_count": 1,
   "metadata": {},
   "outputs": [],
   "source": [
    "import pandas as pd \n",
    "import matplotlib.pyplot as plt\n",
    "import seaborn as sb \n",
    "from sklearn.metrics import accuracy_score, recall_score, precision_score, f1_score,plot_confusion_matrix\n",
    "from sklearn.tree import DecisionTreeClassifier, plot_tree\n",
    "from sklearn.neighbors import KNeighborsClassifier\n",
    "from sklearn.naive_bayes import GaussianNB\n",
    "from sklearn.ensemble import RandomForestClassifier\n",
    "from sklearn.model_selection import train_test_split"
   ]
  },
  {
   "cell_type": "code",
   "execution_count": 2,
   "metadata": {},
   "outputs": [],
   "source": [
    "df = pd.read_csv(\"D:\\\\Lectures\\\\Majors\\\\cse 498\\\\Cse-498-Depression-Dataset-and-Code\\\\BDI_Scores.csv\") ## dataset imported"
   ]
  },
  {
   "cell_type": "code",
   "execution_count": 3,
   "metadata": {},
   "outputs": [],
   "source": [
    "def HyperParameterTune(clf, param_grid, x_train, y_train):\n",
    "    grid = GridSearchCV(clf, param_grid, cv=10, scoring='accuracy')\n",
    "    grid.fit(x_train,y_train)\n",
    "    print(grid.best_score_)\n",
    "    print(grid.best_params_)\n",
    "    print(grid.best_estimator_)"
   ]
  },
  {
   "cell_type": "code",
   "execution_count": 4,
   "metadata": {},
   "outputs": [],
   "source": [
    "def randomForestGridSearch(x_train, y_train):\n",
    "    n_estimators = [int(x) for x in np.linspace(start = 200, stop = 2000, num = 10)]\n",
    "    # Number of features to consider at every split\n",
    "    max_features = ['auto', 'sqrt']\n",
    "    # Maximum number of levels in tree\n",
    "    max_depth = [int(x) for x in np.linspace(10, 110, num = 11)]\n",
    "    max_depth.append(None)\n",
    "    # Minimum number of samples required to split a node\n",
    "    min_samples_split = [2, 5, 10]\n",
    "    # Minimum number of samples required at each leaf node\n",
    "    min_samples_leaf = [1, 2, 4]\n",
    "    # Method of selecting samples for training each tree\n",
    "    bootstrap = [True, False]# Create the random grid\n",
    "    random_grid = {'n_estimators': n_estimators,\n",
    "                   'max_features': max_features,\n",
    "                   'max_depth': max_depth,\n",
    "                   'min_samples_split': min_samples_split,\n",
    "                   'min_samples_leaf': min_samples_leaf,\n",
    "                   'bootstrap': bootstrap}\n",
    "    # Use the random grid to search for best hyperparameters\n",
    "    # First create the base model to tune\n",
    "    rf = RandomForestClassifier()\n",
    "    # Random search of parameters, using 3 fold cross validation, \n",
    "    # search across 100 different combinations, and use all available cores\n",
    "    rf_random = RandomizedSearchCV(estimator = rf, param_distributions = random_grid, n_iter = 100, cv = 3, verbose=2, random_state=42, n_jobs = -1)# Fit the random search model\n",
    "    rf_random.fit(x_train, y_train)\n",
    "    return (rf_random.best_estimator_)"
   ]
  },
  {
   "source": [
    "## Basic information of the dataset"
   ],
   "cell_type": "markdown",
   "metadata": {}
  },
  {
   "cell_type": "code",
   "execution_count": 5,
   "metadata": {},
   "outputs": [
    {
     "output_type": "execute_result",
     "data": {
      "text/plain": [
       "Gender\n",
       "0    231\n",
       "1    241\n",
       "dtype: int64"
      ]
     },
     "metadata": {},
     "execution_count": 5
    }
   ],
   "source": [
    "df.groupby('Gender').size()"
   ]
  },
  {
   "cell_type": "code",
   "execution_count": 6,
   "metadata": {},
   "outputs": [
    {
     "output_type": "execute_result",
     "data": {
      "text/plain": [
       "Classification\n",
       "Low         181\n",
       "Moderate    173\n",
       "Severe      118\n",
       "dtype: int64"
      ]
     },
     "metadata": {},
     "execution_count": 6
    }
   ],
   "source": [
    "df.groupby('Classification').size()"
   ]
  },
  {
   "cell_type": "code",
   "execution_count": 7,
   "metadata": {},
   "outputs": [
    {
     "output_type": "execute_result",
     "data": {
      "text/plain": [
       "False"
      ]
     },
     "metadata": {},
     "execution_count": 7
    }
   ],
   "source": [
    "df.isnull().values.any() ## checking missing data"
   ]
  },
  {
   "cell_type": "code",
   "execution_count": 8,
   "metadata": {},
   "outputs": [
    {
     "output_type": "execute_result",
     "data": {
      "text/plain": [
       "                    Email Address  Gender  Age  Degree  Year  Discipline  \\\n",
       "0    Shadman.saqif@northsouth.edu       0   25       0     4           0   \n",
       "1      maliha.naz.deh@ulab.edu.bd       1   23       0     2           1   \n",
       "2  zarin.tasneem17@northsouth.edu       1   23       0     3           2   \n",
       "3      ehat.mahdin@northsouth.edu       0   23       0     3           0   \n",
       "4   throwaway28145@protonmail.com       0   22       0     3           0   \n",
       "\n",
       "   Marital Status  Father's profession  Mother's profession  Income  ...  \\\n",
       "0               0                    5                    6       1  ...   \n",
       "1               0                    3                    6       1  ...   \n",
       "2               0                    2                    6       1  ...   \n",
       "3               0                    3                    6       1  ...   \n",
       "4               0                    0                    6       1  ...   \n",
       "\n",
       "   Worthlessness  Loss of Energy  Changes in Sleeping Pattern  Irritability  \\\n",
       "0              3               1                            1             2   \n",
       "1              2               1                            2             3   \n",
       "2              3               2                            3             3   \n",
       "3              1               2                            2             1   \n",
       "4              2               2                            1             3   \n",
       "\n",
       "   Changes in Appetite  Concentration Difficulty  Tiredness or Fatigue  \\\n",
       "0                    1                         2                     0   \n",
       "1                    1                         1                     2   \n",
       "2                    3                         2                     3   \n",
       "3                    2                         1                     1   \n",
       "4                    3                         2                     1   \n",
       "\n",
       "   BDI Score  Classification  Level of depression  \n",
       "0         32          Severe                    4  \n",
       "1         38          Severe                    4  \n",
       "2         42          Severe                    5  \n",
       "3         27        Moderate                    3  \n",
       "4         34          Severe                    4  \n",
       "\n",
       "[5 rows x 33 columns]"
      ],
      "text/html": "<div>\n<style scoped>\n    .dataframe tbody tr th:only-of-type {\n        vertical-align: middle;\n    }\n\n    .dataframe tbody tr th {\n        vertical-align: top;\n    }\n\n    .dataframe thead th {\n        text-align: right;\n    }\n</style>\n<table border=\"1\" class=\"dataframe\">\n  <thead>\n    <tr style=\"text-align: right;\">\n      <th></th>\n      <th>Email Address</th>\n      <th>Gender</th>\n      <th>Age</th>\n      <th>Degree</th>\n      <th>Year</th>\n      <th>Discipline</th>\n      <th>Marital Status</th>\n      <th>Father's profession</th>\n      <th>Mother's profession</th>\n      <th>Income</th>\n      <th>...</th>\n      <th>Worthlessness</th>\n      <th>Loss of Energy</th>\n      <th>Changes in Sleeping Pattern</th>\n      <th>Irritability</th>\n      <th>Changes in Appetite</th>\n      <th>Concentration Difficulty</th>\n      <th>Tiredness or Fatigue</th>\n      <th>BDI Score</th>\n      <th>Classification</th>\n      <th>Level of depression</th>\n    </tr>\n  </thead>\n  <tbody>\n    <tr>\n      <th>0</th>\n      <td>Shadman.saqif@northsouth.edu</td>\n      <td>0</td>\n      <td>25</td>\n      <td>0</td>\n      <td>4</td>\n      <td>0</td>\n      <td>0</td>\n      <td>5</td>\n      <td>6</td>\n      <td>1</td>\n      <td>...</td>\n      <td>3</td>\n      <td>1</td>\n      <td>1</td>\n      <td>2</td>\n      <td>1</td>\n      <td>2</td>\n      <td>0</td>\n      <td>32</td>\n      <td>Severe</td>\n      <td>4</td>\n    </tr>\n    <tr>\n      <th>1</th>\n      <td>maliha.naz.deh@ulab.edu.bd</td>\n      <td>1</td>\n      <td>23</td>\n      <td>0</td>\n      <td>2</td>\n      <td>1</td>\n      <td>0</td>\n      <td>3</td>\n      <td>6</td>\n      <td>1</td>\n      <td>...</td>\n      <td>2</td>\n      <td>1</td>\n      <td>2</td>\n      <td>3</td>\n      <td>1</td>\n      <td>1</td>\n      <td>2</td>\n      <td>38</td>\n      <td>Severe</td>\n      <td>4</td>\n    </tr>\n    <tr>\n      <th>2</th>\n      <td>zarin.tasneem17@northsouth.edu</td>\n      <td>1</td>\n      <td>23</td>\n      <td>0</td>\n      <td>3</td>\n      <td>2</td>\n      <td>0</td>\n      <td>2</td>\n      <td>6</td>\n      <td>1</td>\n      <td>...</td>\n      <td>3</td>\n      <td>2</td>\n      <td>3</td>\n      <td>3</td>\n      <td>3</td>\n      <td>2</td>\n      <td>3</td>\n      <td>42</td>\n      <td>Severe</td>\n      <td>5</td>\n    </tr>\n    <tr>\n      <th>3</th>\n      <td>ehat.mahdin@northsouth.edu</td>\n      <td>0</td>\n      <td>23</td>\n      <td>0</td>\n      <td>3</td>\n      <td>0</td>\n      <td>0</td>\n      <td>3</td>\n      <td>6</td>\n      <td>1</td>\n      <td>...</td>\n      <td>1</td>\n      <td>2</td>\n      <td>2</td>\n      <td>1</td>\n      <td>2</td>\n      <td>1</td>\n      <td>1</td>\n      <td>27</td>\n      <td>Moderate</td>\n      <td>3</td>\n    </tr>\n    <tr>\n      <th>4</th>\n      <td>throwaway28145@protonmail.com</td>\n      <td>0</td>\n      <td>22</td>\n      <td>0</td>\n      <td>3</td>\n      <td>0</td>\n      <td>0</td>\n      <td>0</td>\n      <td>6</td>\n      <td>1</td>\n      <td>...</td>\n      <td>2</td>\n      <td>2</td>\n      <td>1</td>\n      <td>3</td>\n      <td>3</td>\n      <td>2</td>\n      <td>1</td>\n      <td>34</td>\n      <td>Severe</td>\n      <td>4</td>\n    </tr>\n  </tbody>\n</table>\n<p>5 rows × 33 columns</p>\n</div>"
     },
     "metadata": {},
     "execution_count": 8
    }
   ],
   "source": [
    "df.head()"
   ]
  },
  {
   "cell_type": "code",
   "execution_count": 10,
   "metadata": {},
   "outputs": [
    {
     "output_type": "execute_result",
     "data": {
      "text/plain": [
       "(468, 33)"
      ]
     },
     "metadata": {},
     "execution_count": 10
    }
   ],
   "source": [
    "df.drop_duplicates(inplace=True)\n",
    "df.shape"
   ]
  },
  {
   "cell_type": "code",
   "execution_count": null,
   "metadata": {},
   "outputs": [],
   "source": []
  }
 ]
}